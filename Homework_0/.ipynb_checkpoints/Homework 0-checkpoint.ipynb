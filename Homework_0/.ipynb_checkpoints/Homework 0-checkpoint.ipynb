{
 "cells": [
  {
   "cell_type": "code",
   "execution_count": 84,
   "metadata": {},
   "outputs": [],
   "source": [
    "import csv"
   ]
  },
  {
   "cell_type": "code",
   "execution_count": 85,
   "metadata": {},
   "outputs": [],
   "source": [
    "file = 'guns-data/interactive_data.csv'"
   ]
  },
  {
   "cell_type": "code",
   "execution_count": 86,
   "metadata": {},
   "outputs": [],
   "source": [
    "def selection(csv_file, Intent='None selected', Gender='None selected', Age='None selected', Race='None selected'):\n",
    "    with open(csv_file, newline='\\n') as csvfile:\n",
    "        reader = csv.reader(csvfile, delimiter=',')\n",
    "        for row in reader:\n",
    "            if(row[1]==Intent and row[2]==Gender and row[3]==Age and row[4]==Race):\n",
    "                #print(\"Deaths = \"+str(row[5])+\" \\n Population = \"+str(row[6])+\" \\n Rate = \"+str(row[7]))\n",
    "                return float(row[5])\n",
    "    print(\"Not found\")\n",
    "    return \"Not found\""
   ]
  },
  {
   "cell_type": "code",
   "execution_count": 87,
   "metadata": {},
   "outputs": [
    {
     "name": "stdout",
     "output_type": "stream",
     "text": [
      "Number of deaths = 33599.0\n"
     ]
    }
   ],
   "source": [
    "# More than 33,000 people are fatally shot in the U.S. each year.\n",
    "deaths = selection(file)\n",
    "print(\"Number of deaths = \"+str(deaths))"
   ]
  },
  {
   "cell_type": "code",
   "execution_count": 88,
   "metadata": {},
   "outputs": [],
   "source": [
    "# We tend to focus on terrorism and mass shootings, police officers killed in the line of duty, and police shootings of civilians.\n"
   ]
  },
  {
   "cell_type": "code",
   "execution_count": 89,
   "metadata": {},
   "outputs": [
    {
     "name": "stdout",
     "output_type": "stream",
     "text": [
      "Ratio = 0.6267448435965356\n"
     ]
    }
   ],
   "source": [
    "# But nearly two-thirds of gun deaths are suicides.\n",
    "suicides = selection(file, Intent=\"Suicide\")\n",
    "print(\"Ratio = \"+str(suicides/deaths))"
   ]
  },
  {
   "cell_type": "code",
   "execution_count": 90,
   "metadata": {},
   "outputs": [
    {
     "name": "stdout",
     "output_type": "stream",
     "text": [
      "Percentage of males = 86.24750688574414\n"
     ]
    }
   ],
   "source": [
    "# More than 85 percent of suicide victims are male ...\n",
    "male_suicides = selection(file, Intent=\"Suicide\", Gender=\"Male\")\n",
    "print(\"Percentage of males = \"+str(male_suicides/suicides*100))"
   ]
  },
  {
   "cell_type": "code",
   "execution_count": 91,
   "metadata": {},
   "outputs": [
    {
     "name": "stdout",
     "output_type": "stream",
     "text": [
      "Percentage of males 35 or older = 64.80672428530725\n"
     ]
    }
   ],
   "source": [
    "# … and more than half of all suicides are men age 45 or older.\n",
    "# NB: We have no infos for men over 45: we have infos for men between 35 and 64 and for men over 65\n",
    "male_35_64_suicides = selection(file, Intent=\"Suicide\", Gender=\"Male\", Age=\"35 - 64\")\n",
    "male_65_suicides = selection(file, Intent=\"Suicide\", Gender=\"Male\", Age=\"65+\")\n",
    "print(\"Percentage of males 35 or older = \"+str((male_35_64_suicides+male_65_suicides)/suicides*100))"
   ]
  },
  {
   "cell_type": "code",
   "execution_count": 92,
   "metadata": {},
   "outputs": [
    {
     "name": "stdout",
     "output_type": "stream",
     "text": [
      "Number of homicides = 11726.0\n",
      "Percentage of homicides = 34.899848209768145\n"
     ]
    }
   ],
   "source": [
    "# Another third of all gun deaths — about 12,000 in total each year — are homicides.\n",
    "homicides = selection(file, Intent=\"Homicide\") \n",
    "print(\"Number of homicides = \"+str(homicides))\n",
    "print(\"Percentage of homicides = \"+str(homicides/deaths*100))"
   ]
  },
  {
   "cell_type": "code",
   "execution_count": 93,
   "metadata": {},
   "outputs": [
    {
     "name": "stdout",
     "output_type": "stream",
     "text": [
      "Number of young males homicides victims = 6656.0\n",
      "Percentage of young males homicides victims (among homicides) = 56.76274944567628\n"
     ]
    }
   ],
   "source": [
    "# More than half of homicide victims are young men ...\n",
    "under_15_male_homicides = selection(file, Intent=\"Homicide\", Gender=\"Male\", Age=\"Under 15\")\n",
    "between_15_34_male_homicides = selection(file, Intent=\"Homicide\", Gender=\"Male\", Age=\"15 - 34\")\n",
    "print(\"Number of young males homicides victims = \"+str(under_15_male_homicides+between_15_34_male_homicides))\n",
    "print(\"Percentage of young males homicides victims (among homicides) = \"+str((under_15_male_homicides+between_15_34_male_homicides)/homicides*100))"
   ]
  },
  {
   "cell_type": "code",
   "execution_count": 94,
   "metadata": {},
   "outputs": [
    {
     "name": "stdout",
     "output_type": "stream",
     "text": [
      "Percentage of black people among young males who are victims of homicides = 65.60997596153845\n"
     ]
    }
   ],
   "source": [
    "# … two-thirds of whom are black.\n",
    "under_15_black_male_homicides = selection(file, Intent=\"Homicide\", Gender=\"Male\", Age=\"Under 15\", Race=\"Black\")\n",
    "between_15_34_black_male_homicides = selection(file, Intent=\"Homicide\", Gender=\"Male\", Age=\"15 - 34\", Race=\"Black\")\n",
    "print(\"Percentage of black people among young males who are victims of homicides = \"+str((under_15_black_male_homicides+between_15_34_black_male_homicides)/(under_15_male_homicides+between_15_34_male_homicides)*100))"
   ]
  },
  {
   "cell_type": "code",
   "execution_count": 95,
   "metadata": {},
   "outputs": [
    {
     "name": "stdout",
     "output_type": "stream",
     "text": [
      "Female homicide victims = 1791.0\n"
     ]
    }
   ],
   "source": [
    "# Women are far less likely to be gun homicide victims\n",
    "# — about 1,700 of them are killed each year, many in domestic violence incidents.\n",
    "female_homicides = selection(file, Intent=\"Homicide\", Gender=\"Female\")\n",
    "print(\"Female homicide victims = \"+str(female_homicides))"
   ]
  },
  {
   "cell_type": "code",
   "execution_count": 96,
   "metadata": {},
   "outputs": [
    {
     "name": "stdout",
     "output_type": "stream",
     "text": [
      "Deaths classified as undetermined = 269.0\n"
     ]
    }
   ],
   "source": [
    "# The remaining gun deaths are accidents or are classified as undetermined.\n",
    "Unknown_deaths = selection(file, Intent=\"Unknown\")\n",
    "print(\"Deaths classified as undetermined = \"+str(Unknown_deaths))"
   ]
  }
 ],
 "metadata": {
  "kernelspec": {
   "display_name": "Python [conda env:anaconda3]",
   "language": "python",
   "name": "conda-env-anaconda3-py"
  },
  "language_info": {
   "codemirror_mode": {
    "name": "ipython",
    "version": 3
   },
   "file_extension": ".py",
   "mimetype": "text/x-python",
   "name": "python",
   "nbconvert_exporter": "python",
   "pygments_lexer": "ipython3",
   "version": "3.6.2"
  }
 },
 "nbformat": 4,
 "nbformat_minor": 2
}
